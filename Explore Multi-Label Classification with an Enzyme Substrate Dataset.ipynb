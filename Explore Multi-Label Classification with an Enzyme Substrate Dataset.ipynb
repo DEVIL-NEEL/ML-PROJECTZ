{
 "cells": [
  {
   "cell_type": "code",
   "execution_count": 1,
   "id": "46a44c77",
   "metadata": {
    "_cell_guid": "b1076dfc-b9ad-4769-8c92-a6c4dae69d19",
    "_uuid": "8f2839f25d086af736a60e9eeb907d3b93b6e0e5",
    "execution": {
     "iopub.execute_input": "2023-06-29T18:50:44.752890Z",
     "iopub.status.busy": "2023-06-29T18:50:44.752526Z",
     "iopub.status.idle": "2023-06-29T18:50:56.849507Z",
     "shell.execute_reply": "2023-06-29T18:50:56.848324Z"
    },
    "papermill": {
     "duration": 12.104594,
     "end_time": "2023-06-29T18:50:56.851977",
     "exception": false,
     "start_time": "2023-06-29T18:50:44.747383",
     "status": "completed"
    },
    "tags": []
   },
   "outputs": [
    {
     "name": "stdout",
     "output_type": "stream",
     "text": [
      "Collecting py_boost\r\n",
      "  Downloading py_boost-0.4.3-py3-none-any.whl (58 kB)\r\n",
      "\u001b[2K     \u001b[90m━━━━━━━━━━━━━━━━━━━━━━━━━━━━━━━━━━━━━━━━\u001b[0m \u001b[32m58.4/58.4 kB\u001b[0m \u001b[31m3.3 MB/s\u001b[0m eta \u001b[36m0:00:00\u001b[0m\r\n",
      "\u001b[?25hRequirement already satisfied: joblib in /opt/conda/lib/python3.10/site-packages (from py_boost) (1.2.0)\r\n",
      "Requirement already satisfied: numba in /opt/conda/lib/python3.10/site-packages (from py_boost) (0.57.0)\r\n",
      "Requirement already satisfied: numpy in /opt/conda/lib/python3.10/site-packages (from py_boost) (1.23.5)\r\n",
      "Requirement already satisfied: pandas>=1 in /opt/conda/lib/python3.10/site-packages (from py_boost) (1.5.3)\r\n",
      "Requirement already satisfied: scikit-learn>=1 in /opt/conda/lib/python3.10/site-packages (from py_boost) (1.2.2)\r\n",
      "Requirement already satisfied: tqdm>=4.64.1 in /opt/conda/lib/python3.10/site-packages (from py_boost) (4.64.1)\r\n",
      "Requirement already satisfied: treelite<4,>=3 in /opt/conda/lib/python3.10/site-packages (from py_boost) (3.2.0)\r\n",
      "Requirement already satisfied: treelite_runtime<4,>=3 in /opt/conda/lib/python3.10/site-packages (from py_boost) (3.2.0)\r\n",
      "Requirement already satisfied: python-dateutil>=2.8.1 in /opt/conda/lib/python3.10/site-packages (from pandas>=1->py_boost) (2.8.2)\r\n",
      "Requirement already satisfied: pytz>=2020.1 in /opt/conda/lib/python3.10/site-packages (from pandas>=1->py_boost) (2023.3)\r\n",
      "Requirement already satisfied: scipy>=1.3.2 in /opt/conda/lib/python3.10/site-packages (from scikit-learn>=1->py_boost) (1.10.1)\r\n",
      "Requirement already satisfied: threadpoolctl>=2.0.0 in /opt/conda/lib/python3.10/site-packages (from scikit-learn>=1->py_boost) (3.1.0)\r\n",
      "Requirement already satisfied: llvmlite<0.41,>=0.40.0dev0 in /opt/conda/lib/python3.10/site-packages (from numba->py_boost) (0.40.0)\r\n",
      "Requirement already satisfied: six>=1.5 in /opt/conda/lib/python3.10/site-packages (from python-dateutil>=2.8.1->pandas>=1->py_boost) (1.16.0)\r\n",
      "Installing collected packages: py_boost\r\n",
      "Successfully installed py_boost-0.4.3\r\n",
      "\u001b[33mWARNING: Running pip as the 'root' user can result in broken permissions and conflicting behaviour with the system package manager. It is recommended to use a virtual environment instead: https://pip.pypa.io/warnings/venv\u001b[0m\u001b[33m\r\n",
      "\u001b[0m"
     ]
    }
   ],
   "source": [
    "!pip install py_boost"
   ]
  },
  {
   "cell_type": "code",
   "execution_count": 2,
   "id": "2525eeac",
   "metadata": {
    "execution": {
     "iopub.execute_input": "2023-06-29T18:50:56.862807Z",
     "iopub.status.busy": "2023-06-29T18:50:56.861841Z",
     "iopub.status.idle": "2023-06-29T18:51:13.903501Z",
     "shell.execute_reply": "2023-06-29T18:51:13.902597Z"
    },
    "papermill": {
     "duration": 17.04992,
     "end_time": "2023-06-29T18:51:13.906494",
     "exception": false,
     "start_time": "2023-06-29T18:50:56.856574",
     "status": "completed"
    },
    "tags": []
   },
   "outputs": [],
   "source": [
    "import sys\n",
    "sys.path.append('../input/iterativestratification')\n",
    "\n",
    "import pandas as pd\n",
    "import numpy as np\n",
    "from sklearn.metrics import roc_auc_score\n",
    "from iterstrat.ml_stratifiers import MultilabelStratifiedKFold\n",
    "\n",
    "from py_boost.gpu import *\n",
    "from py_boost.multioutput.sketching import *\n",
    "\n",
    "import warnings\n",
    "warnings.filterwarnings('ignore', '.*DataFrame is highly fragmented*')"
   ]
  },
  {
   "cell_type": "code",
   "execution_count": 3,
   "id": "b3aea992",
   "metadata": {
    "execution": {
     "iopub.execute_input": "2023-06-29T18:51:13.920003Z",
     "iopub.status.busy": "2023-06-29T18:51:13.919650Z",
     "iopub.status.idle": "2023-06-29T18:51:13.930821Z",
     "shell.execute_reply": "2023-06-29T18:51:13.929964Z"
    },
    "papermill": {
     "duration": 0.020269,
     "end_time": "2023-06-29T18:51:13.933109",
     "exception": false,
     "start_time": "2023-06-29T18:51:13.912840",
     "status": "completed"
    },
    "tags": []
   },
   "outputs": [],
   "source": [
    "def calc_multilabel_roc_auc(Y_true: pd.DataFrame, Y_preds: pd.DataFrame):\n",
    "    \n",
    "    rocaucs = []\n",
    "    \n",
    "    for c in Y_true.columns:\n",
    "        rocaucs.append(roc_auc_score(Y_true[c], Y_preds[c]))\n",
    "        \n",
    "    return np.mean(rocaucs)\n",
    "\n",
    "\n",
    "def generate_features(train, test, cat_cols, num_cols):\n",
    "    \n",
    "    df = pd.concat([train, test], axis = 0, copy = False)\n",
    "    \n",
    "    for c in cat_cols + num_cols:\n",
    "        \n",
    "        df[f'count_{c}'] = df.groupby(c)[c].transform('count')\n",
    "        \n",
    "    for c in cat_cols:\n",
    "        for n in num_cols:\n",
    "                df[f'mean_{n}_per_{c}'] = df.groupby(c)[n].transform('mean')\n",
    "            \n",
    "    return df.iloc[:len(train),:], df.iloc[len(train):, :]"
   ]
  },
  {
   "cell_type": "code",
   "execution_count": 4,
   "id": "f227767b",
   "metadata": {
    "execution": {
     "iopub.execute_input": "2023-06-29T18:51:13.946008Z",
     "iopub.status.busy": "2023-06-29T18:51:13.945700Z",
     "iopub.status.idle": "2023-06-29T18:51:14.237671Z",
     "shell.execute_reply": "2023-06-29T18:51:14.236666Z"
    },
    "papermill": {
     "duration": 0.300607,
     "end_time": "2023-06-29T18:51:14.239721",
     "exception": false,
     "start_time": "2023-06-29T18:51:13.939114",
     "status": "completed"
    },
    "tags": []
   },
   "outputs": [
    {
     "name": "stdout",
     "output_type": "stream",
     "text": [
      "(14838, 38) (9893, 32) (9893, 3)\n",
      "CPU times: user 151 ms, sys: 31 ms, total: 182 ms\n",
      "Wall time: 286 ms\n"
     ]
    }
   ],
   "source": [
    "%%time\n",
    "\n",
    "train = pd.read_csv('/kaggle/input/playground-series-s3e18/train.csv')\n",
    "test = pd.read_csv('/kaggle/input/playground-series-s3e18/test.csv')\n",
    "sub = pd.read_csv('/kaggle/input/playground-series-s3e18/sample_submission.csv')\n",
    "\n",
    "print(train.shape, test.shape, sub.shape)"
   ]
  },
  {
   "cell_type": "code",
   "execution_count": 5,
   "id": "e111c7d8",
   "metadata": {
    "execution": {
     "iopub.execute_input": "2023-06-29T18:51:14.250575Z",
     "iopub.status.busy": "2023-06-29T18:51:14.249111Z",
     "iopub.status.idle": "2023-06-29T18:51:14.258121Z",
     "shell.execute_reply": "2023-06-29T18:51:14.257290Z"
    },
    "papermill": {
     "duration": 0.016071,
     "end_time": "2023-06-29T18:51:14.260020",
     "exception": false,
     "start_time": "2023-06-29T18:51:14.243949",
     "status": "completed"
    },
    "tags": []
   },
   "outputs": [
    {
     "name": "stdout",
     "output_type": "stream",
     "text": [
      "Categorical Features: 13\n",
      "Numeric Features: 18\n"
     ]
    }
   ],
   "source": [
    "target_cols = ['EC1', 'EC2', 'EC3', 'EC4', 'EC5', 'EC6']\n",
    "cols_to_drop = ['id']\n",
    "\n",
    "features = [c for c in train.columns if c not in target_cols + cols_to_drop]\n",
    "\n",
    "cat_cols = ['EState_VSA2','HallKierAlpha','NumHeteroatoms','PEOE_VSA10','PEOE_VSA14','PEOE_VSA6',\n",
    "            'PEOE_VSA7','PEOE_VSA8', 'SMR_VSA10','SMR_VSA5','SlogP_VSA3','fr_COO','fr_COO2']\n",
    "\n",
    "num_cols = [c for c in features if c not in cat_cols]\n",
    "\n",
    "print(f'Categorical Features: {len(cat_cols)}')\n",
    "print(f'Numeric Features: {len(num_cols)}')"
   ]
  },
  {
   "cell_type": "code",
   "execution_count": 6,
   "id": "284e55cd",
   "metadata": {
    "execution": {
     "iopub.execute_input": "2023-06-29T18:51:14.269470Z",
     "iopub.status.busy": "2023-06-29T18:51:14.269205Z",
     "iopub.status.idle": "2023-06-29T18:51:14.284708Z",
     "shell.execute_reply": "2023-06-29T18:51:14.283690Z"
    },
    "papermill": {
     "duration": 0.022869,
     "end_time": "2023-06-29T18:51:14.287110",
     "exception": false,
     "start_time": "2023-06-29T18:51:14.264241",
     "status": "completed"
    },
    "tags": []
   },
   "outputs": [
    {
     "name": "stdout",
     "output_type": "stream",
     "text": [
      "(14838, 31) (14838, 6)\n",
      "(9893, 31)\n"
     ]
    }
   ],
   "source": [
    "X_train = train[features]\n",
    "Y_train = train[target_cols]\n",
    "X_test = test[features]\n",
    "\n",
    "print(X_train.shape, Y_train.shape)\n",
    "print(X_test.shape)"
   ]
  },
  {
   "cell_type": "code",
   "execution_count": 7,
   "id": "e245e4f0",
   "metadata": {
    "execution": {
     "iopub.execute_input": "2023-06-29T18:51:14.296828Z",
     "iopub.status.busy": "2023-06-29T18:51:14.296533Z",
     "iopub.status.idle": "2023-06-29T18:51:14.775169Z",
     "shell.execute_reply": "2023-06-29T18:51:14.774202Z"
    },
    "papermill": {
     "duration": 0.486727,
     "end_time": "2023-06-29T18:51:14.777971",
     "exception": false,
     "start_time": "2023-06-29T18:51:14.291244",
     "status": "completed"
    },
    "tags": []
   },
   "outputs": [
    {
     "name": "stdout",
     "output_type": "stream",
     "text": [
      "CPU times: user 439 ms, sys: 30 ms, total: 469 ms\n",
      "Wall time: 474 ms\n"
     ]
    }
   ],
   "source": [
    "%%time\n",
    "\n",
    "X_train, X_test = generate_features(X_train, X_test, cat_cols, num_cols)"
   ]
  },
  {
   "cell_type": "code",
   "execution_count": 8,
   "id": "91f3689c",
   "metadata": {
    "execution": {
     "iopub.execute_input": "2023-06-29T18:51:14.788228Z",
     "iopub.status.busy": "2023-06-29T18:51:14.787948Z",
     "iopub.status.idle": "2023-06-29T18:51:14.793293Z",
     "shell.execute_reply": "2023-06-29T18:51:14.792485Z"
    },
    "papermill": {
     "duration": 0.012816,
     "end_time": "2023-06-29T18:51:14.795265",
     "exception": false,
     "start_time": "2023-06-29T18:51:14.782449",
     "status": "completed"
    },
    "tags": []
   },
   "outputs": [],
   "source": [
    "N_FOLDS = 10\n",
    "\n",
    "cv = MultilabelStratifiedKFold(n_splits=N_FOLDS, shuffle=True, random_state=0)"
   ]
  },
  {
   "cell_type": "code",
   "execution_count": 9,
   "id": "32ecd1f0",
   "metadata": {
    "execution": {
     "iopub.execute_input": "2023-06-29T18:51:14.805863Z",
     "iopub.status.busy": "2023-06-29T18:51:14.805056Z",
     "iopub.status.idle": "2023-06-29T18:51:14.811170Z",
     "shell.execute_reply": "2023-06-29T18:51:14.810341Z"
    },
    "papermill": {
     "duration": 0.013397,
     "end_time": "2023-06-29T18:51:14.813155",
     "exception": false,
     "start_time": "2023-06-29T18:51:14.799758",
     "status": "completed"
    },
    "tags": []
   },
   "outputs": [
    {
     "name": "stdout",
     "output_type": "stream",
     "text": [
      "296\n"
     ]
    }
   ],
   "source": [
    "features = X_train.columns\n",
    "print(len(features))"
   ]
  },
  {
   "cell_type": "code",
   "execution_count": 10,
   "id": "0190f8d4",
   "metadata": {
    "execution": {
     "iopub.execute_input": "2023-06-29T18:51:14.824731Z",
     "iopub.status.busy": "2023-06-29T18:51:14.823193Z",
     "iopub.status.idle": "2023-06-29T18:53:11.723279Z",
     "shell.execute_reply": "2023-06-29T18:53:11.722157Z"
    },
    "papermill": {
     "duration": 116.908365,
     "end_time": "2023-06-29T18:53:11.726250",
     "exception": false,
     "start_time": "2023-06-29T18:51:14.817885",
     "status": "completed"
    },
    "tags": []
   },
   "outputs": [
    {
     "name": "stdout",
     "output_type": "stream",
     "text": [
      "Fold 0 started.\n",
      "X_train shape: (13355, 296). Y_train shape: (13355, 6)\n",
      "X_valid shape: (1483, 296). Y_valid shape: (1483, 6)\n",
      "[18:51:26] Stdout logging level is INFO.\n",
      "[18:51:26] GDBT train starts. Max iter 1000, early stopping rounds 100\n",
      "[18:51:49] Iter 0; Sample 0, BCE = 0.5294502506271496; \n",
      "[18:51:51] Iter 100; Sample 0, BCE = 0.499819261257522; \n",
      "[18:51:53] Iter 200; Sample 0, BCE = 0.49752121090116225; \n",
      "[18:51:55] Iter 300; Sample 0, BCE = 0.49749501417257896; \n",
      "[18:51:56] Early stopping at iter 381, best iter 281, best_score 0.49731315794670367\n",
      "Fold 0 ROC AUC: 0.6508215287785704\n",
      "#########################\n",
      "Fold 1 started.\n",
      "X_train shape: (13354, 296). Y_train shape: (13354, 6)\n",
      "X_valid shape: (1484, 296). Y_valid shape: (1484, 6)\n",
      "[18:51:57] Stdout logging level is INFO.\n",
      "[18:51:57] GDBT train starts. Max iter 1000, early stopping rounds 100\n",
      "[18:51:57] Iter 0; Sample 0, BCE = 0.5332890398190299; \n",
      "[18:51:59] Iter 100; Sample 0, BCE = 0.5043535751640481; \n",
      "[18:52:00] Iter 200; Sample 0, BCE = 0.5028891396467984; \n",
      "[18:52:02] Iter 300; Sample 0, BCE = 0.5030076978755088; \n",
      "[18:52:02] Early stopping at iter 314, best iter 214, best_score 0.502685586848349\n",
      "Fold 1 ROC AUC: 0.6504425641357947\n",
      "#########################\n",
      "Fold 2 started.\n",
      "X_train shape: (13354, 296). Y_train shape: (13354, 6)\n",
      "X_valid shape: (1484, 296). Y_valid shape: (1484, 6)\n",
      "[18:52:03] Stdout logging level is INFO.\n",
      "[18:52:03] GDBT train starts. Max iter 1000, early stopping rounds 100\n",
      "[18:52:03] Iter 0; Sample 0, BCE = 0.5293595991801465; \n",
      "[18:52:05] Iter 100; Sample 0, BCE = 0.5002909542276573; \n",
      "[18:52:06] Iter 200; Sample 0, BCE = 0.49790346865983165; \n",
      "[18:52:08] Iter 300; Sample 0, BCE = 0.4975094587146456; \n",
      "[18:52:10] Iter 400; Sample 0, BCE = 0.4974240088985023; \n",
      "[18:52:11] Early stopping at iter 467, best iter 367, best_score 0.4973028238788743\n",
      "Fold 2 ROC AUC: 0.6406764603642356\n",
      "#########################\n",
      "Fold 3 started.\n",
      "X_train shape: (13355, 296). Y_train shape: (13355, 6)\n",
      "X_valid shape: (1483, 296). Y_valid shape: (1483, 6)\n",
      "[18:52:11] Stdout logging level is INFO.\n",
      "[18:52:11] GDBT train starts. Max iter 1000, early stopping rounds 100\n",
      "[18:52:11] Iter 0; Sample 0, BCE = 0.5304079558092161; \n",
      "[18:52:13] Iter 100; Sample 0, BCE = 0.5013475919359889; \n",
      "[18:52:15] Iter 200; Sample 0, BCE = 0.49879651134976355; \n",
      "[18:52:17] Iter 300; Sample 0, BCE = 0.498416865313938; \n",
      "[18:52:19] Iter 400; Sample 0, BCE = 0.49812488362339874; \n",
      "[18:52:20] Iter 500; Sample 0, BCE = 0.49823544307306433; \n",
      "[18:52:20] Early stopping at iter 518, best iter 418, best_score 0.49805827944539677\n",
      "Fold 3 ROC AUC: 0.6470557721246184\n",
      "#########################\n",
      "Fold 4 started.\n",
      "X_train shape: (13354, 296). Y_train shape: (13354, 6)\n",
      "X_valid shape: (1484, 296). Y_valid shape: (1484, 6)\n",
      "[18:52:21] Stdout logging level is INFO.\n",
      "[18:52:21] GDBT train starts. Max iter 1000, early stopping rounds 100\n",
      "[18:52:21] Iter 0; Sample 0, BCE = 0.5320490595052523; \n",
      "[18:52:23] Iter 100; Sample 0, BCE = 0.5024498455993166; \n",
      "[18:52:25] Iter 200; Sample 0, BCE = 0.5001220963059959; \n",
      "[18:52:26] Iter 300; Sample 0, BCE = 0.5000014615689261; \n",
      "[18:52:28] Iter 400; Sample 0, BCE = 0.49992594249433; \n",
      "[18:52:29] Iter 500; Sample 0, BCE = 0.5003534150624062; \n",
      "[18:52:30] Early stopping at iter 515, best iter 415, best_score 0.4998006747107401\n",
      "Fold 4 ROC AUC: 0.6554885159272386\n",
      "#########################\n",
      "Fold 5 started.\n",
      "X_train shape: (13354, 296). Y_train shape: (13354, 6)\n",
      "X_valid shape: (1484, 296). Y_valid shape: (1484, 6)\n",
      "[18:52:30] Stdout logging level is INFO.\n",
      "[18:52:30] GDBT train starts. Max iter 1000, early stopping rounds 100\n",
      "[18:52:30] Iter 0; Sample 0, BCE = 0.5302398337054607; \n",
      "[18:52:32] Iter 100; Sample 0, BCE = 0.49785724314973884; \n",
      "[18:52:34] Iter 200; Sample 0, BCE = 0.49485294737241237; \n",
      "[18:52:36] Iter 300; Sample 0, BCE = 0.4940928124755951; \n",
      "[18:52:37] Iter 400; Sample 0, BCE = 0.4939811447833354; \n",
      "[18:52:38] Early stopping at iter 475, best iter 375, best_score 0.49383786310553607\n",
      "Fold 5 ROC AUC: 0.6395911014671971\n",
      "#########################\n",
      "Fold 6 started.\n",
      "X_train shape: (13354, 296). Y_train shape: (13354, 6)\n",
      "X_valid shape: (1484, 296). Y_valid shape: (1484, 6)\n",
      "[18:52:39] Stdout logging level is INFO.\n",
      "[18:52:39] GDBT train starts. Max iter 1000, early stopping rounds 100\n",
      "[18:52:39] Iter 0; Sample 0, BCE = 0.5285449404958188; \n",
      "[18:52:41] Iter 100; Sample 0, BCE = 0.49965486070801796; \n",
      "[18:52:43] Iter 200; Sample 0, BCE = 0.4977254362697257; \n",
      "[18:52:44] Iter 300; Sample 0, BCE = 0.4975990834029765; \n",
      "[18:52:46] Iter 400; Sample 0, BCE = 0.4975568086677313; \n",
      "[18:52:47] Early stopping at iter 463, best iter 363, best_score 0.49743667603939434\n",
      "Fold 6 ROC AUC: 0.6568230991918158\n",
      "#########################\n",
      "Fold 7 started.\n",
      "X_train shape: (13354, 296). Y_train shape: (13354, 6)\n",
      "X_valid shape: (1484, 296). Y_valid shape: (1484, 6)\n",
      "[18:52:48] Stdout logging level is INFO.\n",
      "[18:52:48] GDBT train starts. Max iter 1000, early stopping rounds 100\n",
      "[18:52:48] Iter 0; Sample 0, BCE = 0.5360611009616547; \n",
      "[18:52:50] Iter 100; Sample 0, BCE = 0.5057474673482312; \n",
      "[18:52:52] Iter 200; Sample 0, BCE = 0.5029174265202268; \n",
      "[18:52:53] Iter 300; Sample 0, BCE = 0.5024739782172167; \n",
      "[18:52:55] Iter 400; Sample 0, BCE = 0.5024301842383257; \n",
      "[18:52:57] Iter 500; Sample 0, BCE = 0.5022228029268231; \n",
      "[18:52:58] Iter 600; Sample 0, BCE = 0.5024273526613707; \n",
      "[18:52:58] Early stopping at iter 616, best iter 516, best_score 0.5021881798656792\n",
      "Fold 7 ROC AUC: 0.6516503361038892\n",
      "#########################\n",
      "Fold 8 started.\n",
      "X_train shape: (13354, 296). Y_train shape: (13354, 6)\n",
      "X_valid shape: (1484, 296). Y_valid shape: (1484, 6)\n",
      "[18:52:59] Stdout logging level is INFO.\n",
      "[18:52:59] GDBT train starts. Max iter 1000, early stopping rounds 100\n",
      "[18:52:59] Iter 0; Sample 0, BCE = 0.5286940371214204; \n",
      "[18:53:01] Iter 100; Sample 0, BCE = 0.49949717455145787; \n",
      "[18:53:03] Iter 200; Sample 0, BCE = 0.49688162821737003; \n",
      "[18:53:04] Iter 300; Sample 0, BCE = 0.49661480722614987; \n",
      "[18:53:05] Early stopping at iter 369, best iter 269, best_score 0.49655246222756955\n",
      "Fold 8 ROC AUC: 0.6473538973459085\n",
      "#########################\n",
      "Fold 9 started.\n",
      "X_train shape: (13354, 296). Y_train shape: (13354, 6)\n",
      "X_valid shape: (1484, 296). Y_valid shape: (1484, 6)\n",
      "[18:53:06] Stdout logging level is INFO.\n",
      "[18:53:06] GDBT train starts. Max iter 1000, early stopping rounds 100\n",
      "[18:53:06] Iter 0; Sample 0, BCE = 0.5309664930115257; \n",
      "[18:53:08] Iter 100; Sample 0, BCE = 0.5063163159221016; \n",
      "[18:53:10] Iter 200; Sample 0, BCE = 0.505170671623352; \n",
      "[18:53:11] Early stopping at iter 294, best iter 194, best_score 0.5050986000061406\n",
      "Fold 9 ROC AUC: 0.6451266645401639\n",
      "#########################\n",
      "Mean ROC AUC: 0.6485029939979432\n",
      "Std ROC AUC: 0.005408843659371152\n",
      "CPU times: user 1min 53s, sys: 1.45 s, total: 1min 55s\n",
      "Wall time: 1min 56s\n"
     ]
    }
   ],
   "source": [
    "%%time\n",
    "\n",
    "scores = []\n",
    "oof_predictions = np.zeros((len(X_train),2))\n",
    "test_predictions = np.zeros((len(test),2))\n",
    "\n",
    "for fold_n, (tr_idx, val_idx) in enumerate(cv.split(X_train, Y_train[['EC1', 'EC2']])):\n",
    "    \n",
    "    print(f'Fold {fold_n} started.')\n",
    "    \n",
    "    X_tr, X_val = X_train.loc[tr_idx], X_train.loc[val_idx]\n",
    "    Y_tr, Y_val = Y_train.loc[tr_idx], Y_train.loc[val_idx]\n",
    "    \n",
    "    print(f'X_train shape: {X_tr.shape}. Y_train shape: {Y_tr.shape}')\n",
    "    print(f'X_valid shape: {X_val.shape}. Y_valid shape: {Y_val.shape}')\n",
    "    \n",
    "    sketch = RandomProjectionSketch(1)\n",
    "    \n",
    "    model = GradientBoosting('multilabel',\n",
    "                             ntrees=1000,\n",
    "                             lr=0.03,\n",
    "                             verbose=100,\n",
    "                             lambda_l2=1,\n",
    "                             gd_steps=1, \n",
    "                             subsample=1,\n",
    "                             colsample=1,\n",
    "                             min_data_in_leaf=10,\n",
    "                             use_hess=False, \n",
    "                             max_bin=256,\n",
    "                             max_depth=6,\n",
    "                             multioutput_sketch=sketch)\n",
    "    \n",
    "    model.fit(X_tr.values, Y_tr.values, eval_sets = [{'X': X_val.values, 'y': Y_val.values}])\n",
    "    \n",
    "    fold_predictions = model.predict(X_val.values)[:,:2]\n",
    "    test_predictions += model.predict(X_test[features].values)[:,:2] / N_FOLDS\n",
    "    \n",
    "    oof_predictions[val_idx] = fold_predictions\n",
    "    \n",
    "    fold_score = calc_multilabel_roc_auc(Y_val[['EC1', 'EC2']], pd.DataFrame(fold_predictions, columns = ['EC1', 'EC2']))\n",
    "    scores.append(fold_score)\n",
    "    print(f'Fold {fold_n} ROC AUC: {fold_score}')\n",
    "    print(25 * '#')\n",
    "    \n",
    "print(f'Mean ROC AUC: {np.mean(scores)}')\n",
    "print(f'Std ROC AUC: {np.std(scores)}')"
   ]
  },
  {
   "cell_type": "code",
   "execution_count": 11,
   "id": "5784c793",
   "metadata": {
    "execution": {
     "iopub.execute_input": "2023-06-29T18:53:11.750709Z",
     "iopub.status.busy": "2023-06-29T18:53:11.749819Z",
     "iopub.status.idle": "2023-06-29T18:53:11.806492Z",
     "shell.execute_reply": "2023-06-29T18:53:11.805611Z"
    },
    "papermill": {
     "duration": 0.071394,
     "end_time": "2023-06-29T18:53:11.808769",
     "exception": false,
     "start_time": "2023-06-29T18:53:11.737375",
     "status": "completed"
    },
    "tags": []
   },
   "outputs": [],
   "source": [
    "sub[['EC1', 'EC2']] = test_predictions\n",
    "sub.to_csv('submission.csv', index = 0)"
   ]
  }
 ],
 "metadata": {
  "kernelspec": {
   "display_name": "Python 3",
   "language": "python",
   "name": "python3"
  },
  "language_info": {
   "codemirror_mode": {
    "name": "ipython",
    "version": 3
   },
   "file_extension": ".py",
   "mimetype": "text/x-python",
   "name": "python",
   "nbconvert_exporter": "python",
   "pygments_lexer": "ipython3",
   "version": "3.10.10"
  },
  "papermill": {
   "default_parameters": {},
   "duration": 159.451299,
   "end_time": "2023-06-29T18:53:13.747913",
   "environment_variables": {},
   "exception": null,
   "input_path": "__notebook__.ipynb",
   "output_path": "__notebook__.ipynb",
   "parameters": {},
   "start_time": "2023-06-29T18:50:34.296614",
   "version": "2.4.0"
  }
 },
 "nbformat": 4,
 "nbformat_minor": 5
}
